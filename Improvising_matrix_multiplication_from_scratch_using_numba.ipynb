{
  "cells": [
    {
      "cell_type": "code",
      "execution_count": null,
      "metadata": {
        "id": "Jv0kdycyYhAb"
      },
      "outputs": [],
      "source": [
        "import numpy as np\n",
        "from numba import njit,float64"
      ]
    },
    {
      "cell_type": "code",
      "execution_count": null,
      "metadata": {
        "id": "x28uO8JrYhAc"
      },
      "outputs": [],
      "source": [
        "\n",
        "\n",
        "#function to calculate vector matrix multiplication from scratch using numba\n",
        "def multiplication(vector,matrix):\n",
        "    rows = len(matrix)\n",
        "    cols = len(matrix[0])\n",
        "    print(cols)\n",
        "    result = np.zeros(rows)\n",
        "    add=0\n",
        "    for i in range(rows):\n",
        "        for j in range(cols):\n",
        "            add +=  matrix[i][j] * vector[j]\n",
        "        result[i] = add\n",
        "    return result"
      ]
    },
    {
      "cell_type": "code",
      "execution_count": null,
      "metadata": {
        "id": "zvbcBe99YhAc"
      },
      "outputs": [],
      "source": [
        "#vector of 1000 random double numbers\n",
        "a = np.random.rand(1000)\n",
        "#matrix of 1000 x 1000 random double numbers\n",
        "b = np.random.rand(1000,1000)\n"
      ]
    },
    {
      "cell_type": "code",
      "execution_count": null,
      "metadata": {
        "id": "A9dKvGXLYhAc"
      },
      "outputs": [],
      "source": [
        "%time multiplication(a,b)"
      ]
    },
    {
      "cell_type": "code",
      "execution_count": null,
      "metadata": {
        "id": "ItYXx2jFYhAc"
      },
      "outputs": [],
      "source": [
        "jit_mul_parallel = njit(float64[:](float64[:],float64[:,:]),parallel=True)(multiplication)\n"
      ]
    },
    {
      "cell_type": "code",
      "execution_count": null,
      "metadata": {
        "id": "ODd4WNfrYhAd"
      },
      "outputs": [],
      "source": [
        "%time jit_mul(a,b)"
      ]
    },
    {
      "cell_type": "code",
      "execution_count": null,
      "metadata": {
        "id": "x_ItL97vYhAd"
      },
      "outputs": [],
      "source": [
        "%time jit_mul_parallel(a,b)"
      ]
    },
    {
      "cell_type": "code",
      "execution_count": null,
      "metadata": {
        "id": "xGWlbrWtYhAd"
      },
      "outputs": [],
      "source": [
        "# function to check if the result of the multiplication is correct\n",
        "def validate(res1,res2):\n",
        "    return np.equal(res1,res2).all()\n",
        "\n",
        "\n"
      ]
    },
    {
      "cell_type": "code",
      "execution_count": null,
      "metadata": {
        "id": "Dt5wah4DYhAd"
      },
      "outputs": [],
      "source": [
        "#vector of 10000 random double numbers\n",
        "vector = np.random.rand(10000)\n",
        "#matrix of 10000 x 10000 random double numbers\n",
        "matrix = np.random.rand(10000,10000)\n"
      ]
    },
    {
      "cell_type": "code",
      "execution_count": null,
      "metadata": {
        "id": "wZ6oVk3VYhAd",
        "outputId": "c7d532fe-740b-45fe-8106-f876fa090146"
      },
      "outputs": [
        {
          "name": "stdout",
          "output_type": "stream",
          "text": [
            "10000\n",
            "CPU times: user 53.4 s, sys: 940 ms, total: 54.3 s\n",
            "Wall time: 55.9 s\n"
          ]
        }
      ],
      "source": [
        "%%time\n",
        "result_python = multiplication(vector,matrix)"
      ]
    },
    {
      "cell_type": "code",
      "execution_count": null,
      "metadata": {
        "id": "KjYhS0tYYhAe",
        "outputId": "fe6604d5-27eb-4298-dcd7-fadd6ea48d2b"
      },
      "outputs": [
        {
          "name": "stdout",
          "output_type": "stream",
          "text": [
            "10000\n",
            "CPU times: user 238 ms, sys: 260 ms, total: 498 ms\n",
            "Wall time: 498 ms\n"
          ]
        }
      ],
      "source": [
        "%%time\n",
        "result_njit = jit_mul_parallel(vector,matrix)"
      ]
    },
    {
      "cell_type": "code",
      "execution_count": null,
      "metadata": {
        "id": "kVASXgsWYhAe",
        "outputId": "42b56c34-707e-40f5-9a0b-476d9d0564a1"
      },
      "outputs": [
        {
          "data": {
            "text/plain": [
              "True"
            ]
          },
          "execution_count": 50,
          "metadata": {},
          "output_type": "execute_result"
        }
      ],
      "source": [
        "validate(result_python,result_njit)"
      ]
    },
    {
      "cell_type": "markdown",
      "metadata": {
        "id": "8p2CWPIYYhAe"
      },
      "source": [
        "## NJIT\n",
        "\n",
        "#### Normal = 53.4s | Parallel = 238ms.\n",
        "\n",
        "### I have used njit from numba\n",
        "\n",
        "##### (parallel = True) will result in use of parallel process\n",
        "\n",
        "#####  (float64[:](float64[:],float64[:,:])) I have used the datatypes to make sure the memory allocation is correct\n",
        "\n",
        "##### I haven't moved matrix and vector to cuda as fairly good result can be seen without it"
      ]
    },
    {
      "cell_type": "code",
      "execution_count": null,
      "metadata": {
        "id": "WUwcG_gLYhAf"
      },
      "outputs": [],
      "source": []
    }
  ],
  "metadata": {
    "kernelspec": {
      "display_name": "Python 3.7.0 64-bit",
      "language": "python",
      "name": "python3"
    },
    "language_info": {
      "codemirror_mode": {
        "name": "ipython",
        "version": 3
      },
      "file_extension": ".py",
      "mimetype": "text/x-python",
      "name": "python",
      "nbconvert_exporter": "python",
      "pygments_lexer": "ipython3",
      "version": "3.7.0"
    },
    "orig_nbformat": 4,
    "vscode": {
      "interpreter": {
        "hash": "e534e48711db4d1e1c48977d0d14ff85b1f16d41bcc4fdfd88268a329b3c9d66"
      }
    },
    "colab": {
      "provenance": []
    }
  },
  "nbformat": 4,
  "nbformat_minor": 0
}